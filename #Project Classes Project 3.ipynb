{
 "cells": [
  {
   "cell_type": "markdown",
   "id": "98fe85a6",
   "metadata": {},
   "source": [
    "# Project Object Oriented Programming (Python) - Univelcity Bootcamp\n",
    "\n",
    "### Name of student: Okonkwo Obinna Uzochukwu"
   ]
  },
  {
   "cell_type": "markdown",
   "id": "ecd07b79",
   "metadata": {},
   "source": [
    "### Project 4.1"
   ]
  },
  {
   "cell_type": "markdown",
   "id": "d02dc261",
   "metadata": {},
   "source": [
    "We need to design an implement a class that will be used to represent bank accounts.\n",
    "\n",
    "We want the following functionality and characteristics:\n",
    "- accounts are uniquely identified by an **account number** (assume it will just be passed in the initializer)\n",
    "- account holders have a **first** and **last** name\n",
    "- accounts have an associated **preferred time zone offset** (e.g. -7 for MST)\n",
    "- **balances** need to be zero or higher, and should not be directly settable.\n",
    "- but, **deposits** and **withdrawals** can be made (given sufficient funds)\n",
    "    - if a withdrawal is attempted that would result in nagative funds, the transaction should be declined.\n",
    "- a **monthly interest rate** exists and is applicable to all accounts **uniformly**. There should be a method that can be called to calculate the interest on the current balance using the current interest rate, and **add it** to the balance.\n",
    "- each deposit and withdrawal must generate a **confirmation number** composed of:\n",
    "    - the transaction type: `D` for deposit, and `W` for withdrawal, `I` for interest deposit, and `X` for declined (in which case the balance remains unaffected)\n",
    "    - the account number\n",
    "    - the time the transaction was made, using UTC\n",
    "    - an incrementing number (that increments across all accounts and transactions)\n",
    "    - for (extreme!) simplicity assume that the transaction id starts at zero (or whatever number you choose) whenever the program starts\n",
    "    - the confirmation number should be returned from any of the transaction methods (deposit, withdraw, etc)\n",
    "- create a **method** that, given a confirmation number, returns:\n",
    "    - the account number, transaction code (D, W, etc), datetime (UTC format), date time (in whatever timezone is specified in te argument, but more human readable), the transaction ID\n",
    "    - make it so it is a nicely structured object (so can use dotted notation to access these three attributes)\n",
    "    - I purposefully made it so the desired timezone is passed as an argument. Can you figure out why? (hint: does this method require any information from any instance?)"
   ]
  },
  {
   "cell_type": "markdown",
   "id": "5bc153c9",
   "metadata": {},
   "source": [
    "For example, we may have an account with:\n",
    "- account number `140568` \n",
    "- preferred time zone offset of -7 (MST) \n",
    "- an existing balance of `100.00`\n",
    "\n",
    "Suppose the last transaction ID in the system was `123`, and a deposit is made for `50.00` on `2019-03-15T14:59:00` (UTC) on that account (or `2019-03-15T07:59:00` in account's preferred time zone offset)\n",
    "\n",
    "The new balance should reflect `150.00` and the confirmation number returned should look something like this:\n",
    "\n",
    "```D-140568-20190315145900-124```\n",
    "\n",
    "We also want a method that given the confirmation number returns an object with attributes:\n",
    "- `result.account_number` --> `140568`\n",
    "- `result.transaction_code` --> `D`\n",
    "- `result.transaction_id` --> `124`\n",
    "- `result.time` --> `2019-03-15 07:59:00 (MST)`\n",
    "- `result.time_utc` --> `2019-03-15T14:59:00`"
   ]
  },
  {
   "cell_type": "markdown",
   "id": "e294389a",
   "metadata": {},
   "source": [
    "Furthermore, if current interest rate is `0.5%`, and the account's balance is `1000.00`, then the result of calling the `deposit_interest` (or whatever name you choose) method, should result in a new transaction and a new balance of `1050.00`. Calling this method should also return a confirmation number.\n",
    "\n",
    "For simplicty, just use floats, but be aware that for these types of situations you'll probably want to use `Decimal` objects instead of floats."
   ]
  },
  {
   "cell_type": "markdown",
   "id": "357dbeb7",
   "metadata": {},
   "source": [
    "There are going to be many ways to design something like this, especially since I have not nailed down all the specific requirements, so you'll have to fill the gaps yourself and decide what other things you may want to implement (like is the account number going to be a mutable property, or \"read-only\" and so on).\n",
    "\n",
    "See how many different ideas you can use from what we covered in the last section. "
   ]
  },
  {
   "cell_type": "markdown",
   "id": "63b35212",
   "metadata": {},
   "source": [
    "My approach will end up creating two classes: a `TimeZone` class used to store the time zone name and offset definition (in hours and minutes), and a main class called `Account` that will have the following \"public\" interface:\n",
    "- initializer with account number, first name, last name, optional preferred time zone, starting balance (defaults to 0)\n",
    "- a first name property (read/write)\n",
    "- a last name property (read/write)\n",
    "- a full name property (computed, read-only)\n",
    "- a balance property (read-only)\n",
    "- an interest rate property (class level property)\n",
    "- deposit, withdraw, pay_interest methods\n",
    "- parse confirmation code\n",
    "\n",
    "Class will have additional state and methods, but those will be used for implementation."
   ]
  },
  {
   "cell_type": "code",
   "execution_count": 1,
   "id": "8332b4ba",
   "metadata": {},
   "outputs": [],
   "source": [
    "import numbers\n",
    "from datetime import timedelta, datetime\n",
    "import itertools\n",
    "from collections import namedtuple\n",
    "\n",
    "Confirmation = namedtuple('Confirmation', 'account_num transaction_code transaction_id time_utc time')\n",
    "\n",
    "class Timezone:\n",
    "    def __init__(self, name, offset_hours, offset_minutes):\n",
    "        if name is None or len(str(name).strip()) == 0:\n",
    "            raise ValueError('Timezone name cannot be empty')\n",
    "            \n",
    "        self._name = str(name).strip()\n",
    "        \n",
    "        if not isinstance(offset_hours, numbers.Integral):\n",
    "            raise ValueError('Hour offset must be an integer')\n",
    "            \n",
    "        if not isinstance(offset_minutes, numbers.Integral):\n",
    "            raise ValueError('Minute offset must be an integer')\n",
    "        \n",
    "        if offset_minutes > 59 or offset_minutes < -59:\n",
    "            raise ValueError('Minute ofset must between -59 and 59 (inclusive)')\n",
    "            \n",
    "        offset = timedelta(hours=offset_hours, minutes=offset_minutes)\n",
    "        \n",
    "        if offset < timedelta(hours=-12, minutes=0) or offset > timedelta(hours=14, minutes=0):\n",
    "            raise ValueError('Offset must be between -12:00 and +14:00.')\n",
    "         \n",
    "        self._offset_hours = offset_hours\n",
    "        self._offset_minutes = offset_minutes\n",
    "        self._offset = offset\n",
    "        \n",
    "\n",
    "    @property\n",
    "    def offset(self):\n",
    "        return self._offset\n",
    "\n",
    "    @property\n",
    "    def name(self):\n",
    "        return self._name\n",
    "\n",
    "\n",
    "    def __eq__(self, other):\n",
    "        return (isinstance(other, Timezone) and \n",
    "                self.name == other.name and \n",
    "                self._offset_hours == other._offset_hours and \n",
    "                self._offset_minutes == other._offset_minutes)\n",
    "\n",
    "    def __repr__(self):\n",
    "        return (f\"Timezone(name='{self.name}', \"\n",
    "                f\"offset_hours={self._offset_hours}, \"\n",
    "                f\"offset_minutes={self._offset_minutes}  )\")\n"
   ]
  },
  {
   "cell_type": "code",
   "execution_count": 2,
   "id": "154a77f8",
   "metadata": {},
   "outputs": [],
   "source": [
    "class Account:\n",
    "    transaction_counter = itertools.count(100)\n",
    "    _interest_rate = 0.5\n",
    "    \n",
    "    _transaction_codes = {\n",
    "        'deposit': 'D',\n",
    "        'withdraw': 'W',\n",
    "        'interest': 'I',\n",
    "        'rejected': 'X'\n",
    "    }\n",
    "    \n",
    "    def __init__(self, account_number, first_name, last_name, timezone=None, initial_balance=0):\n",
    "        self._account_number = account_number\n",
    "        self.first_name = first_name\n",
    "        self.last_name = last_name\n",
    "        \n",
    "        if timezone == None:\n",
    "            timezone = Timezone('UTC', 0, 0)\n",
    "        self.timezone = timezone\n",
    "        self._balance = float(initial_balance)\n",
    "        \n",
    "        \n",
    "    @property\n",
    "    def account_number(self):\n",
    "        return self._account_number\n",
    "    \n",
    "    \n",
    "    \n",
    "    @property\n",
    "    def balance(self):\n",
    "        return self._balance\n",
    "    \n",
    "    \n",
    "    @property\n",
    "    def first_name(self):\n",
    "        return self._first_name\n",
    "    \n",
    "    \n",
    "    @first_name.setter\n",
    "    def first_name(self, value):\n",
    "        self.validate_and_set_name('_first_name', value, 'First Name')\n",
    "        \n",
    "        \n",
    "    @property   \n",
    "    def last_name(self):\n",
    "        return self._last_name\n",
    "           \n",
    "    \n",
    "    @last_name.setter\n",
    "    def last_name(self, value):\n",
    "        self.validate_and_set_name('_last_name', value, 'Last Name')\n",
    "        \n",
    "        \n",
    "    @property\n",
    "    def full_name(self):\n",
    "        return f'{self.first_name} {self.last_name}'\n",
    "        \n",
    "    @property   \n",
    "    def timezone(self):\n",
    "        return self._timezone\n",
    "    \n",
    "    \n",
    "    @timezone.setter\n",
    "    def timezone(self, value):\n",
    "        if not isinstance(value, Timezone):\n",
    "            raise ValueError('Time Zone must be a valid Time Zone object')\n",
    "        self._timezone = value\n",
    "        \n",
    "    @classmethod\n",
    "    def get_interest_rate(cls):\n",
    "        return cls._interest_rate\n",
    "    \n",
    "    \n",
    "    @classmethod\n",
    "    def set_interest_rate(cls, value):\n",
    "        if not isinstance(value, numbers.Real):\n",
    "            raise ValueError('Interest rate must be a Real Number')\n",
    "            \n",
    "        if value < 0:\n",
    "            raise ValueError('Interest rate cannot be neagtive')\n",
    "        cls._interest_rate = value\n",
    "     \n",
    "    \n",
    "    def generate_confirmation_code(self, transaction_code):\n",
    "        dt_str = datetime.utcnow().strftime('%Y%m%d%H%M%S')\n",
    "        return f'{transaction_code}-{self.account_number}-{dt_str}-{next(Account.transaction_counter)}'\n",
    "    \n",
    "    \n",
    "    @staticmethod\n",
    "    def parse_confirmation_code(confirmation_code, preferred_timezone=None):\n",
    "        parts = confirmation_code.split('-')\n",
    "        if len(parts) != 4:\n",
    "            raise ValueError('Invalid confirmation code')\n",
    "            \n",
    "        transaction_code, account_num, raw_dt_utc, transaction_id = parts\n",
    "        \n",
    "        try:\n",
    "            dt_utc = datetime.strptime(raw_dt_utc, '%Y%m%d%H%M%S')\n",
    "        except ValueError as ex:\n",
    "            raise ValueError('Invalid transaction datetime') from ex\n",
    "        if preferred_timezone is None:\n",
    "            preferred_timezone = Timezone('UTC', 0, 0)\n",
    "            \n",
    "        if not isinstance(preferred_timezone, Timezone):\n",
    "            raise ValueError('Invalid Timezone specified')\n",
    "            \n",
    "        dt_preferred = dt_utc + preferred_timezone.offset\n",
    "        dt_preferred_str = f\"{dt_preferred.strftime('%Y-%m-%d %H:%M:%S')} ({preferred_timezone.name})\"\n",
    "        \n",
    "        return Confirmation(account_num, transaction_code, transaction_id,\n",
    "                            dt_utc.isoformat(), dt_preferred_str)\n",
    "    \n",
    "    \n",
    "    def validate_and_set_name(self, attr_name, value, field_title):\n",
    "        if value is None or len(str(value).strip()) == 0:\n",
    "            raise ValueError(f'{field_title} cannot be empty')\n",
    "        setattr(self, attr_name, value)\n",
    "        \n",
    "        \n",
    "        \n",
    "    @staticmethod    \n",
    "    def validate_real_number(value, min_value=None):\n",
    "        if not isinstance(value, numbers.Real):\n",
    "            raise ValueError('Value must be a real number')\n",
    "            \n",
    "        if min_value is not None and value < min_value:\n",
    "            raise ValueError(f'Value must be at least {min_value}.')\n",
    "            \n",
    "        return value\n",
    "        \n",
    "        \n",
    "    def make_transaction(self):\n",
    "        return self.generate_confirmation_code('dummy')\n",
    "\n",
    "    def deposit(self, value):\n",
    "        value = Account.validate_real_number(value, 0.01)\n",
    "            \n",
    "        transaction_code = Account._transaction_codes['deposit']\n",
    "        conf_code = self.generate_confirmation_code(transaction_code)\n",
    "        \n",
    "        self._balance += value\n",
    "        return conf_code\n",
    "    \n",
    "    def withdraw(self, value):\n",
    "        value = Account.validate_real_number(value, 0.01)\n",
    "        \n",
    "        accepted = False\n",
    "        if self.balance - value < 0:\n",
    "            transaction_code = Account._transaction_codes['rejected']\n",
    "        else:\n",
    "            accepted = True\n",
    "            transaction_code = Account._transaction_codes['withdraw']\n",
    "            \n",
    "        conf_code = self.generate_confirmation_code(transaction_code)\n",
    "        \n",
    "        if accepted:\n",
    "            self._balance -= value\n",
    "            \n",
    "        return conf_code\n",
    "    \n",
    "    \n",
    "    def pay_interest(self):\n",
    "        interest = self.balance * (Account.get_interest_rate() / 100)\n",
    "        conf_code = self.generate_confirmation_code(Account._transaction_codes['interest'])\n",
    "        self._balance += interest\n",
    "        return conf_code"
   ]
  },
  {
   "cell_type": "code",
   "execution_count": 3,
   "id": "9dc0a3c2",
   "metadata": {},
   "outputs": [],
   "source": [
    "a1 = Account('C200', 'Arinze', 'Okonkwo', initial_balance=100)"
   ]
  },
  {
   "cell_type": "code",
   "execution_count": 4,
   "id": "bf363b91",
   "metadata": {},
   "outputs": [
    {
     "data": {
      "text/plain": [
       "{'_account_number': 'C200',\n",
       " '_first_name': 'Arinze',\n",
       " '_last_name': 'Okonkwo',\n",
       " '_timezone': Timezone(name='UTC', offset_hours=0, offset_minutes=0  ),\n",
       " '_balance': 100.0}"
      ]
     },
     "execution_count": 4,
     "metadata": {},
     "output_type": "execute_result"
    }
   ],
   "source": [
    "vars(a1)"
   ]
  },
  {
   "cell_type": "code",
   "execution_count": 5,
   "id": "47085f57",
   "metadata": {},
   "outputs": [
    {
     "data": {
      "text/plain": [
       "'Arinze Okonkwo'"
      ]
     },
     "execution_count": 5,
     "metadata": {},
     "output_type": "execute_result"
    }
   ],
   "source": [
    "a1.full_name"
   ]
  },
  {
   "cell_type": "code",
   "execution_count": 6,
   "id": "f185273b",
   "metadata": {},
   "outputs": [
    {
     "name": "stdout",
     "output_type": "stream",
     "text": [
      "Value must be at least 0.01.\n"
     ]
    }
   ],
   "source": [
    "try:\n",
    "    a1.withdraw(-19)\n",
    "except ValueError as ex:\n",
    "    print(ex)"
   ]
  },
  {
   "cell_type": "code",
   "execution_count": 7,
   "id": "be933784",
   "metadata": {},
   "outputs": [
    {
     "data": {
      "text/plain": [
       "Confirmation(account_num='C200', transaction_code='dummy', transaction_id='100', time_utc='2022-02-09T18:45:20', time='2022-02-09 18:45:20 (UTC)')"
      ]
     },
     "execution_count": 7,
     "metadata": {},
     "output_type": "execute_result"
    }
   ],
   "source": [
    "Account.parse_confirmation_code(a1.make_transaction())"
   ]
  },
  {
   "cell_type": "code",
   "execution_count": 8,
   "id": "c8921738",
   "metadata": {},
   "outputs": [
    {
     "data": {
      "text/plain": [
       "'D-C200-20220209184520-101'"
      ]
     },
     "execution_count": 8,
     "metadata": {},
     "output_type": "execute_result"
    }
   ],
   "source": [
    "a1.deposit(100)"
   ]
  },
  {
   "cell_type": "code",
   "execution_count": 9,
   "id": "318879bb",
   "metadata": {},
   "outputs": [
    {
     "data": {
      "text/plain": [
       "200.0"
      ]
     },
     "execution_count": 9,
     "metadata": {},
     "output_type": "execute_result"
    }
   ],
   "source": [
    "a1.balance"
   ]
  },
  {
   "cell_type": "code",
   "execution_count": 10,
   "id": "0ff85f14",
   "metadata": {},
   "outputs": [
    {
     "data": {
      "text/plain": [
       "'W-C200-20220209184520-102'"
      ]
     },
     "execution_count": 10,
     "metadata": {},
     "output_type": "execute_result"
    }
   ],
   "source": [
    "a1.withdraw(150)"
   ]
  },
  {
   "cell_type": "code",
   "execution_count": 11,
   "id": "d342a32c",
   "metadata": {},
   "outputs": [
    {
     "data": {
      "text/plain": [
       "'X-C200-20220209184520-103'"
      ]
     },
     "execution_count": 11,
     "metadata": {},
     "output_type": "execute_result"
    }
   ],
   "source": [
    "a1.withdraw(160)"
   ]
  },
  {
   "cell_type": "code",
   "execution_count": 12,
   "id": "748db0d2",
   "metadata": {},
   "outputs": [
    {
     "data": {
      "text/plain": [
       "50.0"
      ]
     },
     "execution_count": 12,
     "metadata": {},
     "output_type": "execute_result"
    }
   ],
   "source": [
    "a1.balance"
   ]
  },
  {
   "cell_type": "code",
   "execution_count": null,
   "id": "42e171be",
   "metadata": {},
   "outputs": [],
   "source": []
  }
 ],
 "metadata": {
  "kernelspec": {
   "display_name": "Python 3",
   "language": "python",
   "name": "python3"
  },
  "language_info": {
   "codemirror_mode": {
    "name": "ipython",
    "version": 3
   },
   "file_extension": ".py",
   "mimetype": "text/x-python",
   "name": "python",
   "nbconvert_exporter": "python",
   "pygments_lexer": "ipython3",
   "version": "3.8.8"
  }
 },
 "nbformat": 4,
 "nbformat_minor": 5
}
